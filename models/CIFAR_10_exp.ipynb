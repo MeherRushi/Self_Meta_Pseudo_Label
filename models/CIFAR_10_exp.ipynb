{
 "cells": [
  {
   "cell_type": "markdown",
   "metadata": {
    "id": "r7Bu_phhB7Jt"
   },
   "source": [
    "Dint use **UDA and smoothening**"
   ]
  },
  {
   "cell_type": "markdown",
   "metadata": {
    "id": "11S6cDwUWrs5"
   },
   "source": [
    "###1. SetUp"
   ]
  },
  {
   "cell_type": "markdown",
   "metadata": {
    "id": "vt98Z6ArW0Rb"
   },
   "source": [
    "####1.1 Imports"
   ]
  },
  {
   "cell_type": "code",
   "execution_count": 3,
   "metadata": {
    "id": "RQ2RMza-WfaG"
   },
   "outputs": [],
   "source": [
    "import matplotlib.pyplot as plt\n",
    "import torch\n",
    "import torchvision\n",
    "from torch import nn\n",
    "from torchvision import transforms\n",
    "import os"
   ]
  },
  {
   "cell_type": "code",
   "execution_count": 4,
   "metadata": {},
   "outputs": [],
   "source": [
    "os.environ[\"CUDA_VISIBLE_DEVICES\"] = \"7\""
   ]
  },
  {
   "cell_type": "markdown",
   "metadata": {
    "id": "98zgJmOhW3eq"
   },
   "source": [
    "####1.2 Device agnostic code"
   ]
  },
  {
   "cell_type": "code",
   "execution_count": 5,
   "metadata": {
    "colab": {
     "base_uri": "https://localhost:8080/",
     "height": 38
    },
    "id": "JJeT8OcZWueo",
    "outputId": "8a549c30-0bb4-42f2-9392-453506466c22"
   },
   "outputs": [
    {
     "data": {
      "text/plain": [
       "'cuda'"
      ]
     },
     "execution_count": 5,
     "metadata": {},
     "output_type": "execute_result"
    }
   ],
   "source": [
    "device = \"cuda\" if torch.cuda.is_available() else \"cpu\"\n",
    "device"
   ]
  },
  {
   "cell_type": "markdown",
   "metadata": {
    "id": "dlg9QZ07jI0-"
   },
   "source": [
    "####1.3 Hyperparameters"
   ]
  },
  {
   "cell_type": "code",
   "execution_count": 51,
   "metadata": {
    "id": "9KIhTKHgjIW3"
   },
   "outputs": [],
   "source": [
    "MU = 11.5\n",
    "BATCH_SIZE = 128\n",
    "SEED = 42\n",
    "EPOCHS = 15\n",
    "BETA_ZERO = 8\n",
    "a = 5000"
   ]
  },
  {
   "cell_type": "markdown",
   "metadata": {
    "id": "inYhRQe_XED-"
   },
   "source": [
    "###2. Data"
   ]
  },
  {
   "cell_type": "markdown",
   "metadata": {
    "id": "lHYs-QdHXGkj"
   },
   "source": [
    "####2.1 Get the data"
   ]
  },
  {
   "cell_type": "code",
   "execution_count": 7,
   "metadata": {
    "id": "j8qBEnDrW_0v"
   },
   "outputs": [],
   "source": [
    "def get_cifar10_data():\n",
    "  from torchvision import datasets\n",
    "  from torchvision.datasets import ImageFolder\n",
    "\n",
    "  train_data = datasets.CIFAR10(\n",
    "    root=\"data\",\n",
    "    train=True,\n",
    "    download=True,\n",
    "  )\n",
    "\n",
    "  test_data = datasets.CIFAR10(\n",
    "    root=\"data\",\n",
    "    train=False,\n",
    "    download=True,\n",
    "  )\n",
    "  return (train_data , test_data)"
   ]
  },
  {
   "cell_type": "code",
   "execution_count": 8,
   "metadata": {
    "colab": {
     "base_uri": "https://localhost:8080/"
    },
    "id": "fBgWhFs1Xhe9",
    "outputId": "57f0d524-3141-4fd8-cb84-f9b9b3580753"
   },
   "outputs": [
    {
     "name": "stdout",
     "output_type": "stream",
     "text": [
      "Files already downloaded and verified\n",
      "Files already downloaded and verified\n"
     ]
    },
    {
     "data": {
      "text/plain": [
       "(Dataset CIFAR10\n",
       "     Number of datapoints: 50000\n",
       "     Root location: data\n",
       "     Split: Train,\n",
       " Dataset CIFAR10\n",
       "     Number of datapoints: 10000\n",
       "     Root location: data\n",
       "     Split: Test)"
      ]
     },
     "execution_count": 8,
     "metadata": {},
     "output_type": "execute_result"
    }
   ],
   "source": [
    "train_data , test_data = get_cifar10_data()\n",
    "train_data , test_data"
   ]
  },
  {
   "cell_type": "markdown",
   "metadata": {
    "id": "fFOjjoPPYWC7"
   },
   "source": [
    "#### Visualize"
   ]
  },
  {
   "cell_type": "code",
   "execution_count": 9,
   "metadata": {
    "id": "J-rPtTifYVlH"
   },
   "outputs": [],
   "source": [
    "def visualize(dir):\n",
    "  import random\n",
    "  random_index = random.randint(0, len(dir) - 1)\n",
    "  image, label = dir[random_index]\n",
    "  plt.figure(figsize=(10,5))\n",
    "  plt.title(label)\n",
    "  plt.imshow(image)\n",
    "  plt.axis(False)"
   ]
  },
  {
   "cell_type": "code",
   "execution_count": 10,
   "metadata": {
    "colab": {
     "base_uri": "https://localhost:8080/",
     "height": 444
    },
    "id": "1bktIrgrXqru",
    "outputId": "d3f25f78-ba5c-45c0-af0c-8b57575b1c4f"
   },
   "outputs": [
    {
     "ename": "TypeError",
     "evalue": "object of type 'bool' has no len()",
     "output_type": "error",
     "traceback": [
      "\u001b[0;31m---------------------------------------------------------------------------\u001b[0m",
      "\u001b[0;31mTypeError\u001b[0m                                 Traceback (most recent call last)",
      "\u001b[0;32m<ipython-input-10-0da035624a79>\u001b[0m in \u001b[0;36m<module>\u001b[0;34m\u001b[0m\n\u001b[0;32m----> 1\u001b[0;31m \u001b[0mvisualize\u001b[0m\u001b[0;34m(\u001b[0m\u001b[0mtrain_data\u001b[0m\u001b[0;34m)\u001b[0m\u001b[0;34m\u001b[0m\u001b[0;34m\u001b[0m\u001b[0m\n\u001b[0m",
      "\u001b[0;32m<ipython-input-9-c4d7161f7daf>\u001b[0m in \u001b[0;36mvisualize\u001b[0;34m(dir)\u001b[0m\n\u001b[1;32m      6\u001b[0m   \u001b[0mplt\u001b[0m\u001b[0;34m.\u001b[0m\u001b[0mtitle\u001b[0m\u001b[0;34m(\u001b[0m\u001b[0mlabel\u001b[0m\u001b[0;34m)\u001b[0m\u001b[0;34m\u001b[0m\u001b[0;34m\u001b[0m\u001b[0m\n\u001b[1;32m      7\u001b[0m   \u001b[0mplt\u001b[0m\u001b[0;34m.\u001b[0m\u001b[0mimshow\u001b[0m\u001b[0;34m(\u001b[0m\u001b[0mimage\u001b[0m\u001b[0;34m)\u001b[0m\u001b[0;34m\u001b[0m\u001b[0;34m\u001b[0m\u001b[0m\n\u001b[0;32m----> 8\u001b[0;31m   \u001b[0mplt\u001b[0m\u001b[0;34m.\u001b[0m\u001b[0maxis\u001b[0m\u001b[0;34m(\u001b[0m\u001b[0;32mFalse\u001b[0m\u001b[0;34m)\u001b[0m\u001b[0;34m\u001b[0m\u001b[0;34m\u001b[0m\u001b[0m\n\u001b[0m",
      "\u001b[0;32m~/anaconda3/envs/env2/lib/python3.7/site-packages/matplotlib/pyplot.py\u001b[0m in \u001b[0;36maxis\u001b[0;34m(*v, **kwargs)\u001b[0m\n\u001b[1;32m   2433\u001b[0m \u001b[0;34m@\u001b[0m\u001b[0mdocstring\u001b[0m\u001b[0;34m.\u001b[0m\u001b[0mcopy_dedent\u001b[0m\u001b[0;34m(\u001b[0m\u001b[0mAxes\u001b[0m\u001b[0;34m.\u001b[0m\u001b[0maxis\u001b[0m\u001b[0;34m)\u001b[0m\u001b[0;34m\u001b[0m\u001b[0;34m\u001b[0m\u001b[0m\n\u001b[1;32m   2434\u001b[0m \u001b[0;32mdef\u001b[0m \u001b[0maxis\u001b[0m\u001b[0;34m(\u001b[0m\u001b[0;34m*\u001b[0m\u001b[0mv\u001b[0m\u001b[0;34m,\u001b[0m \u001b[0;34m**\u001b[0m\u001b[0mkwargs\u001b[0m\u001b[0;34m)\u001b[0m\u001b[0;34m:\u001b[0m\u001b[0;34m\u001b[0m\u001b[0;34m\u001b[0m\u001b[0m\n\u001b[0;32m-> 2435\u001b[0;31m     \u001b[0;32mreturn\u001b[0m \u001b[0mgca\u001b[0m\u001b[0;34m(\u001b[0m\u001b[0;34m)\u001b[0m\u001b[0;34m.\u001b[0m\u001b[0maxis\u001b[0m\u001b[0;34m(\u001b[0m\u001b[0;34m*\u001b[0m\u001b[0mv\u001b[0m\u001b[0;34m,\u001b[0m \u001b[0;34m**\u001b[0m\u001b[0mkwargs\u001b[0m\u001b[0;34m)\u001b[0m\u001b[0;34m\u001b[0m\u001b[0;34m\u001b[0m\u001b[0m\n\u001b[0m\u001b[1;32m   2436\u001b[0m \u001b[0;34m\u001b[0m\u001b[0m\n\u001b[1;32m   2437\u001b[0m \u001b[0;34m\u001b[0m\u001b[0m\n",
      "\u001b[0;32m~/anaconda3/envs/env2/lib/python3.7/site-packages/matplotlib/axes/_base.py\u001b[0m in \u001b[0;36maxis\u001b[0;34m(self, *v, **kwargs)\u001b[0m\n\u001b[1;32m   1712\u001b[0m \u001b[0;34m\u001b[0m\u001b[0m\n\u001b[1;32m   1713\u001b[0m         \u001b[0mv\u001b[0m \u001b[0;34m=\u001b[0m \u001b[0mv\u001b[0m\u001b[0;34m[\u001b[0m\u001b[0;36m0\u001b[0m\u001b[0;34m]\u001b[0m\u001b[0;34m\u001b[0m\u001b[0;34m\u001b[0m\u001b[0m\n\u001b[0;32m-> 1714\u001b[0;31m         \u001b[0;32mif\u001b[0m \u001b[0mlen\u001b[0m\u001b[0;34m(\u001b[0m\u001b[0mv\u001b[0m\u001b[0;34m)\u001b[0m \u001b[0;34m!=\u001b[0m \u001b[0;36m4\u001b[0m\u001b[0;34m:\u001b[0m\u001b[0;34m\u001b[0m\u001b[0;34m\u001b[0m\u001b[0m\n\u001b[0m\u001b[1;32m   1715\u001b[0m             \u001b[0;32mraise\u001b[0m \u001b[0mValueError\u001b[0m\u001b[0;34m(\u001b[0m\u001b[0;34m'v must contain [xmin xmax ymin ymax]'\u001b[0m\u001b[0;34m)\u001b[0m\u001b[0;34m\u001b[0m\u001b[0;34m\u001b[0m\u001b[0m\n\u001b[1;32m   1716\u001b[0m \u001b[0;34m\u001b[0m\u001b[0m\n",
      "\u001b[0;31mTypeError\u001b[0m: object of type 'bool' has no len()"
     ]
    },
    {
     "data": {
      "image/png": "[encoded data removed]",
      "text/plain": [
       "<Figure size 720x360 with 1 Axes>"
      ]
     },
     "metadata": {
      "needs_background": "light"
     },
     "output_type": "display_data"
    }
   ],
   "source": [
    "visualize(train_data)"
   ]
  },
  {
   "cell_type": "markdown",
   "metadata": {
    "id": "AJNzS529ad5x"
   },
   "source": [
    "#### 2.2 Organize the data"
   ]
  },
  {
   "cell_type": "code",
   "execution_count": 11,
   "metadata": {
    "id": "l1bRNdK5ZJ33"
   },
   "outputs": [],
   "source": [
    "def load_batches(file_path):\n",
    "  import os\n",
    "  import pickle\n",
    "  with open(file_path, 'rb') as fo:\n",
    "    batch = pickle.load(fo, encoding='bytes')\n",
    "  return batch"
   ]
  },
  {
   "cell_type": "code",
   "execution_count": 12,
   "metadata": {
    "colab": {
     "base_uri": "https://localhost:8080/"
    },
    "id": "Ej69vQqma9o1",
    "outputId": "99fd2664-d925-45ba-b259-77f722cc3469"
   },
   "outputs": [
    {
     "data": {
      "text/plain": [
       "{b'num_cases_per_batch': 10000,\n",
       " b'label_names': [b'airplane',\n",
       "  b'automobile',\n",
       "  b'bird',\n",
       "  b'cat',\n",
       "  b'deer',\n",
       "  b'dog',\n",
       "  b'frog',\n",
       "  b'horse',\n",
       "  b'ship',\n",
       "  b'truck'],\n",
       " b'num_vis': 3072}"
      ]
     },
     "execution_count": 12,
     "metadata": {},
     "output_type": "execute_result"
    }
   ],
   "source": [
    "meta_path = 'data/cifar-10-batches-py/batches.meta'\n",
    "meta = load_batches(meta_path)\n",
    "meta"
   ]
  },
  {
   "cell_type": "code",
   "execution_count": 13,
   "metadata": {
    "id": "ryXHLhgebM0P"
   },
   "outputs": [],
   "source": [
    "def create_classification_directory(input_dir,output_dir,subdirectory):\n",
    "  import os\n",
    "  os.makedirs(output_dir, exist_ok=True)\n",
    "  for label_id, class_name in enumerate(subdirectory):\n",
    "    class_name = class_name.decode('utf-8')\n",
    "    class_dir = os.path.join(output_dir, class_name)\n",
    "    os.makedirs(class_dir, exist_ok=True)"
   ]
  },
  {
   "cell_type": "code",
   "execution_count": 14,
   "metadata": {
    "id": "Y7kfCuewcnZ6"
   },
   "outputs": [],
   "source": [
    "### Train directory\n",
    "input_dir = 'data/cifar-10-batches-py'\n",
    "output_dir = 'cifar-10-dataset'\n",
    "subdirectory = meta[b'label_names']\n",
    "create_classification_directory(input_dir,output_dir,subdirectory)"
   ]
  },
  {
   "cell_type": "code",
   "execution_count": 15,
   "metadata": {
    "id": "DC_r5FQddFxj"
   },
   "outputs": [],
   "source": [
    "### Test directory\n",
    "input_dir = 'data/cifar-10-batches-py'\n",
    "output_dir = 'test'\n",
    "subdirectory = meta[b'label_names']\n",
    "create_classification_directory(input_dir,output_dir,subdirectory)"
   ]
  },
  {
   "cell_type": "code",
   "execution_count": 16,
   "metadata": {
    "id": "szovQIl0dily"
   },
   "outputs": [],
   "source": [
    "### Copy train Data\n",
    "def Copy_train_Images(input_dir,output_dir):\n",
    "  import os\n",
    "  for batch_id in range(1, 6):\n",
    "    batch_data = load_batches(os.path.join(input_dir, f'data_batch_{batch_id}'))\n",
    "    for i, (image, label) in enumerate(zip(batch_data[b'data'], batch_data[b'labels'])):\n",
    "      class_name = meta[b'label_names'][label].decode('utf-8')\n",
    "      image = image.reshape(3, 32, 32).transpose(1, 2, 0)\n",
    "      image_filename = f'{batch_id}_{i + 1}.png'\n",
    "      output_path = os.path.join(output_dir, class_name, image_filename)\n",
    "      plt.imsave(output_path, image)"
   ]
  },
  {
   "cell_type": "code",
   "execution_count": 18,
   "metadata": {
    "id": "LID5gRyDeaCN"
   },
   "outputs": [],
   "source": [
    "output_dir = 'cifar-10-dataset'\n",
    "input_dir = 'data/cifar-10-batches-py'\n",
    "Copy_train_Images(input_dir,output_dir)"
   ]
  },
  {
   "cell_type": "code",
   "execution_count": 19,
   "metadata": {
    "id": "_MeR7_RLempR"
   },
   "outputs": [],
   "source": [
    "def Images_in_directory(input_dir):\n",
    "  from pathlib import Path\n",
    "  dir = Path(input_dir)\n",
    "  num_items = len(list(dir.glob('*/*.png')))\n",
    "  print(f\"Number of items in {dir} directory: {num_items}\")"
   ]
  },
  {
   "cell_type": "code",
   "execution_count": 20,
   "metadata": {
    "colab": {
     "base_uri": "https://localhost:8080/"
    },
    "id": "UkigCmike499",
    "outputId": "43175794-bdb3-4f43-d73e-e185293b1d43"
   },
   "outputs": [
    {
     "name": "stdout",
     "output_type": "stream",
     "text": [
      "Number of items in cifar-10-dataset directory: 50000\n"
     ]
    }
   ],
   "source": [
    "Images_in_directory('cifar-10-dataset')"
   ]
  },
  {
   "cell_type": "code",
   "execution_count": 21,
   "metadata": {
    "id": "6pfaxA3gfRgd"
   },
   "outputs": [],
   "source": [
    "### Copy test Data\n",
    "def Copy_test_Images(input_dir,output_dir):\n",
    "  import os\n",
    "  batch_data = load_batches(os.path.join(input_dir, 'test_batch'))\n",
    "  for i, (image, label) in enumerate(zip(batch_data[b'data'], batch_data[b'labels'])):\n",
    "        class_name = meta[b'label_names'][label].decode('utf-8')\n",
    "        image = image.reshape(3, 32, 32).transpose(1, 2, 0)\n",
    "        image_filename = f'{i + 1}.png'\n",
    "        output_path = os.path.join(output_dir, class_name, image_filename)\n",
    "        plt.imsave(output_path, image)"
   ]
  },
  {
   "cell_type": "code",
   "execution_count": 22,
   "metadata": {
    "id": "_3E1QBnGfyZk"
   },
   "outputs": [],
   "source": [
    "output_dir = 'test'\n",
    "input_dir = 'data/cifar-10-batches-py'\n",
    "Copy_test_Images(input_dir,output_dir)"
   ]
  },
  {
   "cell_type": "code",
   "execution_count": 23,
   "metadata": {
    "colab": {
     "base_uri": "https://localhost:8080/"
    },
    "id": "ZX7DlkvegB1U",
    "outputId": "c2c84778-982a-4380-c986-f6b5585668f2"
   },
   "outputs": [
    {
     "name": "stdout",
     "output_type": "stream",
     "text": [
      "Number of items in test directory: 10000\n"
     ]
    }
   ],
   "source": [
    "Images_in_directory('test')"
   ]
  },
  {
   "cell_type": "code",
   "execution_count": 24,
   "metadata": {
    "id": "yGkPRSlrhArY"
   },
   "outputs": [],
   "source": [
    "def simple_dataset(input_dir):\n",
    "  from torchvision import datasets\n",
    "  data = datasets.ImageFolder(root=input_dir)\n",
    "  return data"
   ]
  },
  {
   "cell_type": "code",
   "execution_count": 25,
   "metadata": {
    "colab": {
     "base_uri": "https://localhost:8080/"
    },
    "id": "KEOoGWSbhSNt",
    "outputId": "6aef0257-d2a2-4c47-88bd-12db2c02a4fd"
   },
   "outputs": [
    {
     "data": {
      "text/plain": [
       "Dataset ImageFolder\n",
       "    Number of datapoints: 50000\n",
       "    Root location: cifar-10-dataset"
      ]
     },
     "execution_count": 25,
     "metadata": {},
     "output_type": "execute_result"
    }
   ],
   "source": [
    "data = simple_dataset('cifar-10-dataset')\n",
    "data"
   ]
  },
  {
   "cell_type": "markdown",
   "metadata": {
    "id": "ieHdUDlRhygR"
   },
   "source": [
    "####2.3 Labeled and Unlabeled Split"
   ]
  },
  {
   "cell_type": "code",
   "execution_count": 26,
   "metadata": {
    "colab": {
     "base_uri": "https://localhost:8080/"
    },
    "id": "Q7qU6_sUhsgF",
    "outputId": "06dadbf1-e55a-4548-d47c-0bfdde28c730"
   },
   "outputs": [
    {
     "data": {
      "text/plain": [
       "0.08"
      ]
     },
     "execution_count": 26,
     "metadata": {},
     "output_type": "execute_result"
    }
   ],
   "source": [
    "labeled_ratio = 1/(MU+1)\n",
    "labeled_ratio"
   ]
  },
  {
   "cell_type": "code",
   "execution_count": 27,
   "metadata": {
    "id": "dFwWgE2OjeFi"
   },
   "outputs": [],
   "source": [
    "def get_subdirectories(parent_dir):\n",
    "  import os\n",
    "  from pathlib import Path\n",
    "  for subdirectory in os.listdir(parent_dir):\n",
    "    subdirectory_path = os.path.join(parent_dir, subdirectory)\n",
    "    if os.path.isdir(subdirectory_path):\n",
    "        print(\"Subdirectory:\", subdirectory_path)\n",
    "  parent_dir = Path(parent_dir)\n",
    "  subdirectories = [subdir for subdir in parent_dir.iterdir() if subdir.is_dir()]\n",
    "  return subdirectories"
   ]
  },
  {
   "cell_type": "code",
   "execution_count": 28,
   "metadata": {
    "colab": {
     "base_uri": "https://localhost:8080/"
    },
    "id": "kWNPnQtvjmhE",
    "outputId": "803c2386-7f93-4d9a-b059-a359bf79a403"
   },
   "outputs": [
    {
     "name": "stdout",
     "output_type": "stream",
     "text": [
      "Subdirectory: cifar-10-dataset/truck\n",
      "Subdirectory: cifar-10-dataset/horse\n",
      "Subdirectory: cifar-10-dataset/ship\n",
      "Subdirectory: cifar-10-dataset/frog\n",
      "Subdirectory: cifar-10-dataset/bird\n",
      "Subdirectory: cifar-10-dataset/deer\n",
      "Subdirectory: cifar-10-dataset/dog\n",
      "Subdirectory: cifar-10-dataset/automobile\n",
      "Subdirectory: cifar-10-dataset/airplane\n",
      "Subdirectory: cifar-10-dataset/cat\n"
     ]
    },
    {
     "data": {
      "text/plain": [
       "[PosixPath('cifar-10-dataset/truck'),\n",
       " PosixPath('cifar-10-dataset/horse'),\n",
       " PosixPath('cifar-10-dataset/ship'),\n",
       " PosixPath('cifar-10-dataset/frog'),\n",
       " PosixPath('cifar-10-dataset/bird'),\n",
       " PosixPath('cifar-10-dataset/deer'),\n",
       " PosixPath('cifar-10-dataset/dog'),\n",
       " PosixPath('cifar-10-dataset/automobile'),\n",
       " PosixPath('cifar-10-dataset/airplane'),\n",
       " PosixPath('cifar-10-dataset/cat')]"
      ]
     },
     "execution_count": 28,
     "metadata": {},
     "output_type": "execute_result"
    }
   ],
   "source": [
    "sub_directories = get_subdirectories('cifar-10-dataset')\n",
    "sub_directories"
   ]
  },
  {
   "cell_type": "code",
   "execution_count": 29,
   "metadata": {
    "id": "5B46H6B6jWcL"
   },
   "outputs": [],
   "source": [
    "def l_u_split(seed,source,l,u,ratio):\n",
    "  import numpy as np\n",
    "  np.random.seed(seed)\n",
    "  torch.manual_seed(seed)\n",
    "\n",
    "  import os\n",
    "  import random\n",
    "  from pathlib import Path\n",
    "\n",
    "  source_dir = Path(source)\n",
    "  labeled_dir = Path(l)\n",
    "  unlabeled_dir = Path(u)\n",
    "\n",
    "  labeled_dir.mkdir(parents=True, exist_ok=True)\n",
    "  unlabeled_dir.mkdir(parents=True, exist_ok=True)\n",
    "\n",
    "  split_ratio = ratio\n",
    "\n",
    "\n",
    "  for class_name in os.listdir(source_dir):\n",
    "    class_dir = source_dir / class_name\n",
    "\n",
    "    labeled_class_dir = labeled_dir / class_name\n",
    "    labeled_class_dir.mkdir(parents=True, exist_ok=True)\n",
    "\n",
    "    unlabeled_class_dir = unlabeled_dir / class_name\n",
    "    unlabeled_class_dir.mkdir(parents=True, exist_ok=True)\n",
    "\n",
    "\n",
    "    image_files = list(class_dir.glob(\"*.png\"))\n",
    "\n",
    "    random.shuffle(image_files)\n",
    "\n",
    "    num_labeled = int(len(image_files) * split_ratio)\n",
    "    num_unlabeled = len(image_files) - num_labeled\n",
    "\n",
    "    for i in range(num_labeled):\n",
    "        src_path = image_files[i]\n",
    "        dest_path = labeled_class_dir / src_path.name\n",
    "        src_path.rename(dest_path)\n",
    "\n",
    "    for i in range(num_labeled, num_labeled + num_unlabeled):\n",
    "        src_path = image_files[i]\n",
    "        dest_path = unlabeled_class_dir / src_path.name\n",
    "        src_path.rename(dest_path)"
   ]
  },
  {
   "cell_type": "code",
   "execution_count": 30,
   "metadata": {
    "id": "DVPS7t0Dk_hd"
   },
   "outputs": [],
   "source": [
    "l_u_split(SEED,'cifar-10-dataset','labeled','unlabeled',labeled_ratio)"
   ]
  },
  {
   "cell_type": "code",
   "execution_count": 31,
   "metadata": {
    "colab": {
     "base_uri": "https://localhost:8080/"
    },
    "id": "5balCIb9lMOZ",
    "outputId": "5d187ec3-df57-44e1-c126-9658da169092"
   },
   "outputs": [
    {
     "name": "stdout",
     "output_type": "stream",
     "text": [
      "Number of items in labeled directory: 14794\n"
     ]
    }
   ],
   "source": [
    "Images_in_directory('labeled')"
   ]
  },
  {
   "cell_type": "code",
   "execution_count": 32,
   "metadata": {
    "colab": {
     "base_uri": "https://localhost:8080/"
    },
    "id": "pOeWkqHpnbgN",
    "outputId": "49ce3da7-685b-429a-e8e6-ea7680c72704"
   },
   "outputs": [
    {
     "name": "stdout",
     "output_type": "stream",
     "text": [
      "Number of items in unlabeled directory: 49928\n"
     ]
    }
   ],
   "source": [
    "Images_in_directory('unlabeled')"
   ]
  },
  {
   "cell_type": "markdown",
   "metadata": {
    "id": "IeiS3N5onioi"
   },
   "source": [
    "####2.4 Transforms"
   ]
  },
  {
   "cell_type": "code",
   "execution_count": 33,
   "metadata": {
    "id": "4Ah3up0cneHE"
   },
   "outputs": [],
   "source": [
    "import torchvision.transforms as transforms\n",
    "from torchvision.transforms import RandomHorizontalFlip,RandomAffine\n",
    "\n",
    "transform = transforms.Compose([transforms.AutoAugment(),\n",
    "                               transforms.RandAugment(),\n",
    "    transforms.Resize((32, 32)),\n",
    "    transforms.RandomAutocontrast(p= 0.5),\n",
    "    transforms.ColorJitter(brightness=0.1, contrast=0.2),\n",
    "    transforms.RandomResizedCrop(size=(32,32)),\n",
    "    transforms.RandomEqualize(p= 0.5),\n",
    "    transforms.RandomInvert(p=0.5),\n",
    "    transforms.RandomAdjustSharpness(sharpness_factor=0.5),\n",
    "    transforms.RandomAffine(degrees=12.5,translate=[0.5,0.5],shear=[0.5,0.5]),\n",
    "    transforms.RandomRotation(degrees=12.5),\n",
    "    transforms.RandomPosterize(bits=8,p= 0.5),\n",
    "    transforms.RandomSolarize(threshold = 0.5,p= 0.5),\n",
    "    transforms.ToTensor(),\n",
    "    transforms.Normalize(mean=[0.485, 0.456, 0.406], std=[0.229, 0.224, 0.225])\n",
    "])\n",
    "\n",
    "simple_transform = transforms.Compose([\n",
    "    transforms.Resize((32, 32)),\n",
    "    transforms.ToTensor(),\n",
    "    transforms.Normalize(mean=[0.485, 0.456, 0.406], std=[0.229, 0.224, 0.225])\n",
    "])"
   ]
  },
  {
   "cell_type": "markdown",
   "metadata": {
    "id": "Be2Jdqyzor_M"
   },
   "source": [
    "####2.5 Dataset"
   ]
  },
  {
   "cell_type": "code",
   "execution_count": 34,
   "metadata": {
    "id": "peJoGONfn20Z"
   },
   "outputs": [],
   "source": [
    "from torchvision.datasets import ImageFolder\n",
    "\n",
    "labeled_dir = 'labeled'\n",
    "unlabeled_dir = 'unlabeled'\n",
    "test_dir = 'test'\n",
    "\n",
    "labeled_data = ImageFolder(root=labeled_dir,transform=transform)\n",
    "unlabeled_data = ImageFolder(root=unlabeled_dir,transform=simple_transform)\n",
    "unlabeled_data_augmented = ImageFolder(root=unlabeled_dir,transform=transform)\n",
    "test_data = ImageFolder(root=test_dir,transform=transform)\n",
    "\n"
   ]
  },
  {
   "cell_type": "markdown",
   "metadata": {
    "id": "bvuhH2AioosY"
   },
   "source": [
    "####2.6 DataLoader"
   ]
  },
  {
   "cell_type": "code",
   "execution_count": 35,
   "metadata": {
    "id": "huT02c4ZoUeK"
   },
   "outputs": [],
   "source": [
    "from torch.utils.data import DataLoader\n",
    "\n",
    "labeled_train_loader = DataLoader(labeled_data, batch_size=BATCH_SIZE, shuffle=False)\n",
    "unlabeled_train_loader = DataLoader(unlabeled_data, batch_size=BATCH_SIZE, shuffle=False)\n",
    "unlabeled_train_loader_augmented = DataLoader(unlabeled_data, batch_size=BATCH_SIZE, shuffle=False)\n",
    "test_loader = DataLoader(test_data, batch_size=BATCH_SIZE,shuffle=True)"
   ]
  },
  {
   "cell_type": "code",
   "execution_count": 36,
   "metadata": {
    "colab": {
     "base_uri": "https://localhost:8080/"
    },
    "id": "KOzuuM0Lomds",
    "outputId": "db19ca3b-7e8c-4517-e0f2-19da3ac4c7ad"
   },
   "outputs": [
    {
     "name": "stdout",
     "output_type": "stream",
     "text": [
      "Labeled:116 | Unlabeled_Augmented:391 | Unlabeled:391 | Test:79\n"
     ]
    }
   ],
   "source": [
    "print(f\"Labeled:{len(labeled_train_loader)} | Unlabeled_Augmented:{len(unlabeled_train_loader_augmented)} | Unlabeled:{len(unlabeled_train_loader)} | Test:{len(test_loader)}\")"
   ]
  },
  {
   "cell_type": "markdown",
   "metadata": {
    "id": "aHYlHspBo7cb"
   },
   "source": [
    "###3. Model"
   ]
  },
  {
   "cell_type": "code",
   "execution_count": null,
   "metadata": {
    "colab": {
     "base_uri": "https://localhost:8080/"
    },
    "id": "9fjOeLHq7qGR",
    "outputId": "4650b0f0-ef6d-40d0-97d7-fd244b4e6ff4"
   },
   "outputs": [],
   "source": [
    "import torch\n",
    "import torch.nn as nn\n",
    "import torch.nn.init as init\n",
    "import torch.nn.functional as F\n",
    "from torch.autograd import Variable\n",
    "\n",
    "import sys\n",
    "import numpy as np\n",
    "\n",
    "def conv3x3(in_planes, out_planes, stride=1):\n",
    "    return nn.Conv2d(in_planes, out_planes, kernel_size=3, stride=stride, padding=1, bias=True)\n",
    "\n",
    "def conv_init(m):\n",
    "    classname = m.__class__.__name__\n",
    "    if classname.find('Conv') != -1:\n",
    "        init.xavier_uniform_(m.weight, gain=np.sqrt(2))\n",
    "        init.constant_(m.bias, 0)\n",
    "    elif classname.find('BatchNorm') != -1:\n",
    "        init.constant_(m.weight, 1)\n",
    "        init.constant_(m.bias, 0)\n",
    "\n",
    "class wide_basic(nn.Module):\n",
    "    def __init__(self, in_planes, planes, dropout_rate, stride=1):\n",
    "        super(wide_basic, self).__init__()\n",
    "        self.bn1 = nn.BatchNorm2d(in_planes)\n",
    "        self.conv1 = nn.Conv2d(in_planes, planes, kernel_size=3, padding=1, bias=True)\n",
    "        self.dropout = nn.Dropout(p=dropout_rate)\n",
    "        self.bn2 = nn.BatchNorm2d(planes)\n",
    "        self.conv2 = nn.Conv2d(planes, planes, kernel_size=3, stride=stride, padding=1, bias=True)\n",
    "\n",
    "        self.shortcut = nn.Sequential()\n",
    "        if stride != 1 or in_planes != planes:\n",
    "            self.shortcut = nn.Sequential(\n",
    "                nn.Conv2d(in_planes, planes, kernel_size=1, stride=stride, bias=True),\n",
    "            )\n",
    "\n",
    "    def forward(self, x):\n",
    "        out = self.dropout(self.conv1(F.relu(self.bn1(x))))\n",
    "        out = self.conv2(F.relu(self.bn2(out)))\n",
    "        out += self.shortcut(x)\n",
    "\n",
    "        return out\n",
    "\n",
    "class Wide_ResNet(nn.Module):\n",
    "    def __init__(self, depth, widen_factor, dropout_rate, num_classes):\n",
    "        super(Wide_ResNet, self).__init__()\n",
    "        self.in_planes = 16\n",
    "\n",
    "        assert ((depth-4)%6 ==0), 'Wide-resnet depth should be 6n+4'\n",
    "        n = (depth-4)/6\n",
    "        k = widen_factor\n",
    "\n",
    "        print('| Wide-Resnet %dx%d' %(depth, k))\n",
    "        nStages = [16, 16*k, 32*k, 64*k]\n",
    "\n",
    "        self.conv1 = conv3x3(3,nStages[0])\n",
    "        self.layer1 = self._wide_layer(wide_basic, nStages[1], n, dropout_rate, stride=1)\n",
    "        self.layer2 = self._wide_layer(wide_basic, nStages[2], n, dropout_rate, stride=2)\n",
    "        self.layer3 = self._wide_layer(wide_basic, nStages[3], n, dropout_rate, stride=2)\n",
    "        self.bn1 = nn.BatchNorm2d(nStages[3], momentum=0.9)\n",
    "        self.linear = nn.Linear(nStages[3], num_classes)\n",
    "\n",
    "    def _wide_layer(self, block, planes, num_blocks, dropout_rate, stride):\n",
    "        strides = [stride] + [1]*(int(num_blocks)-1)\n",
    "        layers = []\n",
    "\n",
    "        for stride in strides:\n",
    "            layers.append(block(self.in_planes, planes, dropout_rate, stride))\n",
    "            self.in_planes = planes\n",
    "\n",
    "        return nn.Sequential(*layers)\n",
    "\n",
    "    def forward(self, x):\n",
    "        out = self.conv1(x)\n",
    "        out = self.layer1(out)\n",
    "        out = self.layer2(out)\n",
    "        out = self.layer3(out)\n",
    "        out = F.relu(self.bn1(out))\n",
    "        out = F.avg_pool2d(out, 8)\n",
    "        out = out.view(out.size(0), -1)\n",
    "        out = self.linear(out)\n",
    "\n",
    "        return out\n",
    "\n",
    "if __name__ == '__main__':\n",
    "    net=Wide_ResNet(28, 2, 0.3, 10)\n",
    "    y = net(Variable(torch.randn(1,3,32,32)))\n",
    "\n",
    "    print(y.size())\n",
    "    print(y)"
   ]
  },
  {
   "cell_type": "markdown",
   "metadata": {
    "id": "GiljZ_XCpNL5"
   },
   "source": [
    "###4. Train"
   ]
  },
  {
   "cell_type": "code",
   "execution_count": null,
   "metadata": {
    "id": "Anr8tpt1pQu-"
   },
   "outputs": [],
   "source": [
    "import torch\n",
    "import torch.nn as nn\n",
    "import torch.optim as optim\n",
    "from copy import deepcopy"
   ]
  },
  {
   "cell_type": "code",
   "execution_count": null,
   "metadata": {
    "id": "AdT7wbqhrYGB"
   },
   "outputs": [],
   "source": [
    "def accuracy_fn(y_true, y_pred):\n",
    "  correct = torch.eq(y_true.to(device), y_pred.to(device)).sum().item()\n",
    "  acc = (correct / len(y_pred)) * 100\n",
    "  return acc"
   ]
  },
  {
   "cell_type": "code",
   "execution_count": null,
   "metadata": {
    "id": "smcEF8dWIJcM"
   },
   "outputs": [],
   "source": [
    "def plot_loss_curves(results):\n",
    "    train_loss = results[\"train_loss\"]\n",
    "    test_loss = results[\"model_test_loss\"]\n",
    "\n",
    "    accuracy = results[\"train_acc\"]\n",
    "    test_accuracy = results[\"ema_test_acc\"]\n",
    "\n",
    "    epochs = range(len(results[\"train_loss\"]))\n",
    "\n",
    "    plt.figure(figsize=(15, 7))\n",
    "\n",
    "    # Plot loss\n",
    "    plt.subplot(1, 2, 1)\n",
    "    plt.plot(epochs, loss, label=\"train_loss\")\n",
    "    plt.plot(epochs, test_loss, label=\"test_loss\")\n",
    "    plt.title(\"Loss\")\n",
    "    plt.xlabel(\"Epochs\")\n",
    "    plt.legend()\n",
    "\n",
    "    # Plot accuracy\n",
    "    plt.subplot(1, 2, 2)\n",
    "    plt.plot(epochs, accuracy, label=\"train_accuracy\")\n",
    "    plt.plot(epochs, test_accuracy, label=\"test_accuracy\")\n",
    "    plt.title(\"Accuracy\")\n",
    "    plt.xlabel(\"Epochs\")\n",
    "    plt.legend()\n"
   ]
  },
  {
   "cell_type": "markdown",
   "metadata": {
    "id": "Y4Brl6FDKL9s"
   },
   "source": [
    "####Phase 1"
   ]
  },
  {
   "cell_type": "code",
   "execution_count": 71,
   "metadata": {
    "colab": {
     "base_uri": "https://localhost:8080/"
    },
    "id": "8dEzB4aYooEn",
    "outputId": "816f2183-7c34-4d27-ad39-2f5f9f883968"
   },
   "outputs": [
    {
     "name": "stdout",
     "output_type": "stream",
     "text": [
      "| Wide-Resnet 28x2\n"
     ]
    },
    {
     "data": {
      "text/plain": [
       "Wide_ResNet(\n",
       "  (conv1): Conv2d(3, 16, kernel_size=(3, 3), stride=(1, 1), padding=(1, 1))\n",
       "  (layer1): Sequential(\n",
       "    (0): wide_basic(\n",
       "      (bn1): BatchNorm2d(16, eps=1e-05, momentum=0.1, affine=True, track_running_stats=True)\n",
       "      (conv1): Conv2d(16, 32, kernel_size=(3, 3), stride=(1, 1), padding=(1, 1))\n",
       "      (dropout): Dropout(p=0.3, inplace=False)\n",
       "      (bn2): BatchNorm2d(32, eps=1e-05, momentum=0.1, affine=True, track_running_stats=True)\n",
       "      (conv2): Conv2d(32, 32, kernel_size=(3, 3), stride=(1, 1), padding=(1, 1))\n",
       "      (shortcut): Sequential(\n",
       "        (0): Conv2d(16, 32, kernel_size=(1, 1), stride=(1, 1))\n",
       "      )\n",
       "    )\n",
       "    (1): wide_basic(\n",
       "      (bn1): BatchNorm2d(32, eps=1e-05, momentum=0.1, affine=True, track_running_stats=True)\n",
       "      (conv1): Conv2d(32, 32, kernel_size=(3, 3), stride=(1, 1), padding=(1, 1))\n",
       "      (dropout): Dropout(p=0.3, inplace=False)\n",
       "      (bn2): BatchNorm2d(32, eps=1e-05, momentum=0.1, affine=True, track_running_stats=True)\n",
       "      (conv2): Conv2d(32, 32, kernel_size=(3, 3), stride=(1, 1), padding=(1, 1))\n",
       "      (shortcut): Sequential()\n",
       "    )\n",
       "    (2): wide_basic(\n",
       "      (bn1): BatchNorm2d(32, eps=1e-05, momentum=0.1, affine=True, track_running_stats=True)\n",
       "      (conv1): Conv2d(32, 32, kernel_size=(3, 3), stride=(1, 1), padding=(1, 1))\n",
       "      (dropout): Dropout(p=0.3, inplace=False)\n",
       "      (bn2): BatchNorm2d(32, eps=1e-05, momentum=0.1, affine=True, track_running_stats=True)\n",
       "      (conv2): Conv2d(32, 32, kernel_size=(3, 3), stride=(1, 1), padding=(1, 1))\n",
       "      (shortcut): Sequential()\n",
       "    )\n",
       "    (3): wide_basic(\n",
       "      (bn1): BatchNorm2d(32, eps=1e-05, momentum=0.1, affine=True, track_running_stats=True)\n",
       "      (conv1): Conv2d(32, 32, kernel_size=(3, 3), stride=(1, 1), padding=(1, 1))\n",
       "      (dropout): Dropout(p=0.3, inplace=False)\n",
       "      (bn2): BatchNorm2d(32, eps=1e-05, momentum=0.1, affine=True, track_running_stats=True)\n",
       "      (conv2): Conv2d(32, 32, kernel_size=(3, 3), stride=(1, 1), padding=(1, 1))\n",
       "      (shortcut): Sequential()\n",
       "    )\n",
       "  )\n",
       "  (layer2): Sequential(\n",
       "    (0): wide_basic(\n",
       "      (bn1): BatchNorm2d(32, eps=1e-05, momentum=0.1, affine=True, track_running_stats=True)\n",
       "      (conv1): Conv2d(32, 64, kernel_size=(3, 3), stride=(1, 1), padding=(1, 1))\n",
       "      (dropout): Dropout(p=0.3, inplace=False)\n",
       "      (bn2): BatchNorm2d(64, eps=1e-05, momentum=0.1, affine=True, track_running_stats=True)\n",
       "      (conv2): Conv2d(64, 64, kernel_size=(3, 3), stride=(2, 2), padding=(1, 1))\n",
       "      (shortcut): Sequential(\n",
       "        (0): Conv2d(32, 64, kernel_size=(1, 1), stride=(2, 2))\n",
       "      )\n",
       "    )\n",
       "    (1): wide_basic(\n",
       "      (bn1): BatchNorm2d(64, eps=1e-05, momentum=0.1, affine=True, track_running_stats=True)\n",
       "      (conv1): Conv2d(64, 64, kernel_size=(3, 3), stride=(1, 1), padding=(1, 1))\n",
       "      (dropout): Dropout(p=0.3, inplace=False)\n",
       "      (bn2): BatchNorm2d(64, eps=1e-05, momentum=0.1, affine=True, track_running_stats=True)\n",
       "      (conv2): Conv2d(64, 64, kernel_size=(3, 3), stride=(1, 1), padding=(1, 1))\n",
       "      (shortcut): Sequential()\n",
       "    )\n",
       "    (2): wide_basic(\n",
       "      (bn1): BatchNorm2d(64, eps=1e-05, momentum=0.1, affine=True, track_running_stats=True)\n",
       "      (conv1): Conv2d(64, 64, kernel_size=(3, 3), stride=(1, 1), padding=(1, 1))\n",
       "      (dropout): Dropout(p=0.3, inplace=False)\n",
       "      (bn2): BatchNorm2d(64, eps=1e-05, momentum=0.1, affine=True, track_running_stats=True)\n",
       "      (conv2): Conv2d(64, 64, kernel_size=(3, 3), stride=(1, 1), padding=(1, 1))\n",
       "      (shortcut): Sequential()\n",
       "    )\n",
       "    (3): wide_basic(\n",
       "      (bn1): BatchNorm2d(64, eps=1e-05, momentum=0.1, affine=True, track_running_stats=True)\n",
       "      (conv1): Conv2d(64, 64, kernel_size=(3, 3), stride=(1, 1), padding=(1, 1))\n",
       "      (dropout): Dropout(p=0.3, inplace=False)\n",
       "      (bn2): BatchNorm2d(64, eps=1e-05, momentum=0.1, affine=True, track_running_stats=True)\n",
       "      (conv2): Conv2d(64, 64, kernel_size=(3, 3), stride=(1, 1), padding=(1, 1))\n",
       "      (shortcut): Sequential()\n",
       "    )\n",
       "  )\n",
       "  (layer3): Sequential(\n",
       "    (0): wide_basic(\n",
       "      (bn1): BatchNorm2d(64, eps=1e-05, momentum=0.1, affine=True, track_running_stats=True)\n",
       "      (conv1): Conv2d(64, 128, kernel_size=(3, 3), stride=(1, 1), padding=(1, 1))\n",
       "      (dropout): Dropout(p=0.3, inplace=False)\n",
       "      (bn2): BatchNorm2d(128, eps=1e-05, momentum=0.1, affine=True, track_running_stats=True)\n",
       "      (conv2): Conv2d(128, 128, kernel_size=(3, 3), stride=(2, 2), padding=(1, 1))\n",
       "      (shortcut): Sequential(\n",
       "        (0): Conv2d(64, 128, kernel_size=(1, 1), stride=(2, 2))\n",
       "      )\n",
       "    )\n",
       "    (1): wide_basic(\n",
       "      (bn1): BatchNorm2d(128, eps=1e-05, momentum=0.1, affine=True, track_running_stats=True)\n",
       "      (conv1): Conv2d(128, 128, kernel_size=(3, 3), stride=(1, 1), padding=(1, 1))\n",
       "      (dropout): Dropout(p=0.3, inplace=False)\n",
       "      (bn2): BatchNorm2d(128, eps=1e-05, momentum=0.1, affine=True, track_running_stats=True)\n",
       "      (conv2): Conv2d(128, 128, kernel_size=(3, 3), stride=(1, 1), padding=(1, 1))\n",
       "      (shortcut): Sequential()\n",
       "    )\n",
       "    (2): wide_basic(\n",
       "      (bn1): BatchNorm2d(128, eps=1e-05, momentum=0.1, affine=True, track_running_stats=True)\n",
       "      (conv1): Conv2d(128, 128, kernel_size=(3, 3), stride=(1, 1), padding=(1, 1))\n",
       "      (dropout): Dropout(p=0.3, inplace=False)\n",
       "      (bn2): BatchNorm2d(128, eps=1e-05, momentum=0.1, affine=True, track_running_stats=True)\n",
       "      (conv2): Conv2d(128, 128, kernel_size=(3, 3), stride=(1, 1), padding=(1, 1))\n",
       "      (shortcut): Sequential()\n",
       "    )\n",
       "    (3): wide_basic(\n",
       "      (bn1): BatchNorm2d(128, eps=1e-05, momentum=0.1, affine=True, track_running_stats=True)\n",
       "      (conv1): Conv2d(128, 128, kernel_size=(3, 3), stride=(1, 1), padding=(1, 1))\n",
       "      (dropout): Dropout(p=0.3, inplace=False)\n",
       "      (bn2): BatchNorm2d(128, eps=1e-05, momentum=0.1, affine=True, track_running_stats=True)\n",
       "      (conv2): Conv2d(128, 128, kernel_size=(3, 3), stride=(1, 1), padding=(1, 1))\n",
       "      (shortcut): Sequential()\n",
       "    )\n",
       "  )\n",
       "  (bn1): BatchNorm2d(128, eps=1e-05, momentum=0.9, affine=True, track_running_stats=True)\n",
       "  (linear): Linear(in_features=128, out_features=10, bias=True)\n",
       ")"
      ]
     },
     "execution_count": 71,
     "metadata": {},
     "output_type": "execute_result"
    }
   ],
   "source": [
    "torch.manual_seed(SEED)\n",
    "\n",
    "from torchvision import models\n",
    "model = Wide_ResNet(28, 2, 0.3, 10).to(device)\n",
    "model"
   ]
  },
  {
   "cell_type": "markdown",
   "metadata": {},
   "source": [
    "model = torchvision.models.efficientnet_b0()"
   ]
  },
  {
   "cell_type": "code",
   "execution_count": 76,
   "metadata": {},
   "outputs": [],
   "source": [
    "model = torchvision.models.efficientnet_b0()"
   ]
  },
  {
   "cell_type": "code",
   "execution_count": 77,
   "metadata": {},
   "outputs": [],
   "source": [
    "model.classifier = nn.Sequential(\n",
    "    nn.Dropout(p=0.5,inplace=True),\n",
    "    nn.Linear(in_features=1280,out_features=10,bias=True)\n",
    ")\n",
    "model=model.to(device)\n"
   ]
  },
  {
   "cell_type": "code",
   "execution_count": 78,
   "metadata": {
    "id": "XeFcx1L4pKHh"
   },
   "outputs": [],
   "source": [
    "optimizer = optim.SGD(model.parameters(),lr=0.001)"
   ]
  },
  {
   "cell_type": "code",
   "execution_count": 79,
   "metadata": {
    "colab": {
     "base_uri": "https://localhost:8080/"
    },
    "id": "d34BGElOL_Iw",
    "outputId": "b5c4b0c0-dc01-4229-8b31-0ad6a7657f68"
   },
   "outputs": [
    {
     "name": "stdout",
     "output_type": "stream",
     "text": [
      "i tensor(1.)\n",
      "a tensor(8.)\n"
     ]
    }
   ],
   "source": [
    "i = 1\n",
    "i = torch.tensor(i,dtype=torch.float32)\n",
    "a = 8\n",
    "a = torch.tensor(a,dtype=torch.float32)\n",
    "print(\"i\",i)\n",
    "print(\"a\",a)"
   ]
  },
  {
   "cell_type": "code",
   "execution_count": 80,
   "metadata": {
    "id": "CVcyMHes65-C"
   },
   "outputs": [],
   "source": [
    "clipping_value = 0.8\n",
    "label_smoothing_constant = 0.15"
   ]
  },
  {
   "cell_type": "code",
   "execution_count": null,
   "metadata": {
    "colab": {
     "base_uri": "https://localhost:8080/"
    },
    "id": "HiPsH-8lKgVk",
    "outputId": "e0e73ee8-2a49-45eb-efb7-be5571c87e2f"
   },
   "outputs": [
    {
     "name": "stdout",
     "output_type": "stream",
     "text": [
      "Accuracy per epoch : 10.007911392405063\n",
      "Loss_1:2.1125617027282715 \n",
      "Loss_2:0.9512028694152832 \n"
     ]
    }
   ],
   "source": [
    "epochs = EPOCHS\n",
    "beta_zero = BETA_ZERO\n",
    "num_epochs = epochs\n",
    "labeled_batches = iter(labeled_train_loader)\n",
    "unlabeled_batches = iter(unlabeled_train_loader)\n",
    "unlabeled_batches_augmented = iter(unlabeled_train_loader_augmented)\n",
    "test_batches = iter(test_loader)\n",
    "\n",
    "for epoch in range(num_epochs):\n",
    "    acc = 0\n",
    "    model.train()\n",
    "    loss_per_epoch_1 = 0\n",
    "    loss_per_epoch_2 = 0\n",
    "    for _ in range(len(unlabeled_train_loader)):\n",
    "        try:\n",
    "            labeled_images, labels = next(labeled_batches)\n",
    "        except StopIteration:\n",
    "            labeled_batches = iter(labeled_train_loader)\n",
    "            labeled_images, labels = next(labeled_batches)\n",
    "\n",
    "        try:\n",
    "            unlabeled_images, _ = next(unlabeled_batches)\n",
    "        except StopIteration:\n",
    "            unlabeled_batches = iter(unlabeled_train_loader)\n",
    "            unlabeled_images, _ = next(unlabeled_batches)\n",
    "\n",
    "        try:\n",
    "            unlabeled_images_augmented, _ = next(unlabeled_batches_augmented)\n",
    "        except StopIteration:\n",
    "            unlabeled_batches_augmented = iter(unlabeled_train_loader_augmented)\n",
    "            unlabeled_images_augmented, _ = next(unlabeled_batches_augmented)\n",
    "\n",
    "\n",
    "        # print(\"Unlabeled Image Tensor : \", unlabeled_images_augmented)\n",
    "        unlabeled_logits_augmented = model(unlabeled_images_augmented.to(device)).to(device)\n",
    "        # print(\"Unlabeled Image Logits Tensor : \", unlabeled_logits_augmented)\n",
    "        unlabeled_logits = model(unlabeled_images.to(device)).to(device)\n",
    "        \n",
    "        with torch.no_grad():\n",
    "                    pseudo_labels = torch.argmax(torch.softmax(unlabeled_logits, dim=1), dim=1).to(device)\n",
    "\n",
    "        \n",
    "        labeled_logits = model(labeled_images.to(device)).to(device)\n",
    "\n",
    "        loss_1 = nn.CrossEntropyLoss(label_smoothing = label_smoothing_constant)(unlabeled_logits_augmented,pseudo_labels)\n",
    "        loss_old  = nn.CrossEntropyLoss()(labeled_logits.to(device),labels.to(device)).to(device)\n",
    "\n",
    "        #1st pass\n",
    "        optimizer.zero_grad()\n",
    "        loss_1.backward()\n",
    "        torch.nn.utils.clip_grad_norm_(model.parameters(), clipping_value)\n",
    "        optimizer.step()\n",
    "\n",
    "\n",
    "        new_labeled_logits = model(labeled_images.to(device)).to(device)\n",
    "        loss_ce_y = nn.CrossEntropyLoss()(new_labeled_logits,labels.to(device)).to(device).detach()\n",
    "\n",
    "        new_unlabeled_logits = model(unlabeled_images.to(device)).to(device)\n",
    "        new_unlabeled_logits_augmented = model(unlabeled_images_augmented.to(device)).to(device)\n",
    "        # print(\"new_unlabeled_logits\", new_unlabeled_logits)\n",
    "        # print(\"new_unlabeled_logits_augmented\", new_unlabeled_logits_augmented)\n",
    "        BETA_K = beta_zero * torch.min(i,((epoch+1)/a))\n",
    "\n",
    "        loss_partial = BETA_K * torch.sum(-(torch.softmax(new_unlabeled_logits,dim=1)) * torch.log1p(torch.softmax(new_unlabeled_logits_augmented,dim=1)), dim=0).mean()\n",
    "        loss_uda = loss_ce_y + loss_partial\n",
    "        # print(\"loss_ce_y:\", loss_ce_y)\n",
    "        # print(\"loss_partial:\", loss_partial)\n",
    "        with torch.no_grad():\n",
    "                    new_pseudo_labels = torch.argmax(torch.softmax(new_unlabeled_logits,dim=1), dim=1).to(device)\n",
    "\n",
    "\n",
    "        change = loss_old.detach() - loss_ce_y.detach()\n",
    "        loss_mpl = ((change)* (nn.CrossEntropyLoss()(new_unlabeled_logits,new_pseudo_labels)))\n",
    "        # print(\"change : \",change )\n",
    "        # print(\"The updated loss term in the end : \", nn.CrossEntropyLoss()(new_unlabeled_logits,new_pseudo_labels))\n",
    "\n",
    "        optimizer.zero_grad()\n",
    "#         print(f\"Loss_OLD:{loss_old} \")\n",
    "#         print(f\"Loss_NEW:{loss_ce_y} \")\n",
    "        # print(\"Loss_mpl:\",loss_mpl)\n",
    "        (loss_uda + loss_mpl).backward()\n",
    "        torch.nn.utils.clip_grad_norm_(model.parameters(), clipping_value)\n",
    "        optimizer.step()\n",
    "\n",
    "        loss_per_epoch_1 += loss_1\n",
    "        loss_per_epoch_2 += loss_uda + loss_mpl\n",
    "\n",
    "    model.eval()\n",
    "    for _ in range(len(test_loader)):\n",
    "      try:\n",
    "          test_images, test_labels = next(test_batches)\n",
    "      except StopIteration:\n",
    "          test_batches = iter(test_loader)\n",
    "          test_images, test_labels = next(test_batches)\n",
    "\n",
    "      test_logits = model(test_images.to(device))\n",
    "      pred_labels = torch.argmax(torch.softmax(test_logits,dim=1).to(device),dim=1).to(device)\n",
    "      acc += accuracy_fn(test_labels, pred_labels)\n",
    "\n",
    "    print(\"Accuracy per epoch :\", acc/len(test_loader))\n",
    "    print(f\"Loss_1:{loss_per_epoch_1/len(unlabeled_train_loader)} \")\n",
    "    print(f\"Loss_2:{loss_per_epoch_2/len(unlabeled_train_loader)} \")\n",
    "\n"
   ]
  },
  {
   "cell_type": "code",
   "execution_count": null,
   "metadata": {
    "id": "THa2qmN9G8L5"
   },
   "outputs": [],
   "source": [
    "!nvidia-smi"
   ]
  },
  {
   "cell_type": "code",
   "execution_count": 46,
   "metadata": {
    "id": "AxjrM9UsPEkM"
   },
   "outputs": [],
   "source": [
    "arr = torch.tensor([[1,2,3],[4,5,6]])"
   ]
  },
  {
   "cell_type": "code",
   "execution_count": 47,
   "metadata": {
    "colab": {
     "base_uri": "https://localhost:8080/"
    },
    "id": "p3o34TCtPP7I",
    "outputId": "8d376cba-67b4-4389-ff51-873c5328e4fb"
   },
   "outputs": [
    {
     "data": {
      "text/plain": [
       "tensor([5, 7, 9])"
      ]
     },
     "execution_count": 47,
     "metadata": {},
     "output_type": "execute_result"
    }
   ],
   "source": [
    "s = arr.sum(dim=0)\n",
    "s"
   ]
  },
  {
   "cell_type": "markdown",
   "metadata": {
    "id": "0rwpm18pJ9TT"
   },
   "source": [
    "####CNN Model"
   ]
  },
  {
   "cell_type": "markdown",
   "metadata": {
    "id": "PZOyCq_NKFAi"
   },
   "source": [
    "####EMA Model"
   ]
  },
  {
   "cell_type": "code",
   "execution_count": 48,
   "metadata": {
    "id": "8walGodwH_YA"
   },
   "outputs": [
    {
     "ename": "NameError",
     "evalue": "name 'transformer_model' is not defined",
     "output_type": "error",
     "traceback": [
      "\u001b[0;31m---------------------------------------------------------------------------\u001b[0m",
      "\u001b[0;31mNameError\u001b[0m                                 Traceback (most recent call last)",
      "\u001b[0;32m<ipython-input-48-86b388f8f09a>\u001b[0m in \u001b[0;36m<module>\u001b[0;34m\u001b[0m\n\u001b[1;32m      1\u001b[0m \u001b[0mloss_fn\u001b[0m \u001b[0;34m=\u001b[0m \u001b[0mnn\u001b[0m\u001b[0;34m.\u001b[0m\u001b[0mCrossEntropyLoss\u001b[0m\u001b[0;34m(\u001b[0m\u001b[0;34m)\u001b[0m\u001b[0;34m\u001b[0m\u001b[0;34m\u001b[0m\u001b[0m\n\u001b[0;32m----> 2\u001b[0;31m \u001b[0moptimizer\u001b[0m \u001b[0;34m=\u001b[0m \u001b[0moptim\u001b[0m\u001b[0;34m.\u001b[0m\u001b[0mSGD\u001b[0m\u001b[0;34m(\u001b[0m\u001b[0mtransformer_model\u001b[0m\u001b[0;34m.\u001b[0m\u001b[0mparameters\u001b[0m\u001b[0;34m(\u001b[0m\u001b[0;34m)\u001b[0m\u001b[0;34m,\u001b[0m\u001b[0mlr\u001b[0m\u001b[0;34m=\u001b[0m\u001b[0;36m0.03\u001b[0m\u001b[0;34m,\u001b[0m\u001b[0mweight_decay\u001b[0m\u001b[0;34m=\u001b[0m\u001b[0;36m1e-4\u001b[0m\u001b[0;34m,\u001b[0m\u001b[0mmomentum\u001b[0m\u001b[0;34m=\u001b[0m\u001b[0;36m0.9\u001b[0m\u001b[0;34m)\u001b[0m\u001b[0;34m\u001b[0m\u001b[0;34m\u001b[0m\u001b[0m\n\u001b[0m",
      "\u001b[0;31mNameError\u001b[0m: name 'transformer_model' is not defined"
     ]
    }
   ],
   "source": [
    "loss_fn = nn.CrossEntropyLoss()\n",
    "optimizer = optim.SGD(transformer_model.parameters(),lr=0.03,weight_decay=1e-4,momentum=0.9)"
   ]
  },
  {
   "cell_type": "code",
   "execution_count": null,
   "metadata": {
    "id": "M_cq24TBH2je"
   },
   "outputs": [],
   "source": [
    "t_results,t_ema = phase1(transformer_model,labeled_train_loader,unlabeled_train_loader,optimizer,test_loader,\n",
    "           confidence_threshold = threshold,MU=MU,loss_fn=loss_fn,epochs=EPOCHS,t_max=60,device=device)"
   ]
  },
  {
   "cell_type": "code",
   "execution_count": null,
   "metadata": {
    "id": "1sqvOI9fJf9N"
   },
   "outputs": [],
   "source": [
    "#plot_loss_curves(t_results)"
   ]
  },
  {
   "cell_type": "markdown",
   "metadata": {
    "id": "q9cD6LuyKRjz"
   },
   "source": [
    "####Phase 2"
   ]
  },
  {
   "cell_type": "markdown",
   "metadata": {
    "id": "-acr3_ETt_5S"
   },
   "source": [
    "####Predictions"
   ]
  },
  {
   "cell_type": "code",
   "execution_count": null,
   "metadata": {
    "id": "wruEkjwjt_O1"
   },
   "outputs": [],
   "source": [
    "def predictions(model1,model2,test_loader):\n",
    "  results ={\"model1\":[],\n",
    "            \"model2\":[]\n",
    "  }\n",
    "  test_batches = iter(test_loader)\n",
    "  model1.eval()\n",
    "  model2.eval()\n",
    "  for _ in range(len(test_loader)):\n",
    "        try:\n",
    "            test_images, labels = next(test_batches)\n",
    "        except StopIteration:\n",
    "            test_batches = iter(test_loader)\n",
    "            test_images, labels = next(test_batches)\n",
    "\n",
    "        test_outputs1 = model1(test_images.to(device))\n",
    "        model1_label = torch.argmax(torch.softmax(model1(test_images.to(device)), dim=1), dim=1).to(device)\n",
    "\n",
    "        test_outputs2 = model2(test_images.to(device))\n",
    "        model2_label = torch.argmax(torch.softmax(model2(test_images.to(device)), dim=1), dim=1).to(device)\n",
    "\n",
    "  results[\"model1\"].append(model1_label)\n",
    "  results[\"model2\"].append(model2_label)\n",
    "  print(f\"Model1:{model1_label} Model2:{model2_label} Label:{labels}\")\n",
    "  return (results)"
   ]
  },
  {
   "cell_type": "code",
   "execution_count": null,
   "metadata": {
    "id": "ORV6-Y7eHXzC"
   },
   "outputs": [],
   "source": [
    "final_results = predictions(cnn_ema,t_ema,test_loader)"
   ]
  },
  {
   "cell_type": "markdown",
   "metadata": {
    "id": "rCpT9iJDH1Cf"
   },
   "source": [
    "###Save"
   ]
  },
  {
   "cell_type": "code",
   "execution_count": null,
   "metadata": {
    "id": "8-tq-fkuHnkT"
   },
   "outputs": [],
   "source": [
    "def save_model(model: torch.nn.Module,\n",
    "               target_dir: str,\n",
    "               model_name: str):\n",
    "    from pathlib import Path\n",
    "    target_dir_path = Path(target_dir)\n",
    "    target_dir_path.mkdir(parents=True,\n",
    "                        exist_ok=True)\n",
    "\n",
    "    assert model_name.endswith(\".pth\") or model_name.endswith(\".pt\"), \"model_name should end with '.pt' or '.pth'\"\n",
    "    model_save_path = target_dir_path / model_name\n",
    "\n",
    "    print(f\"[INFO] Saving model to: {model_save_path}\")\n",
    "    torch.save(obj=model.state_dict(),\n",
    "             f=model_save_path)"
   ]
  },
  {
   "cell_type": "code",
   "execution_count": null,
   "metadata": {
    "id": "2HHWax-LH204"
   },
   "outputs": [],
   "source": [
    "save_model(cnn_ema,'models','cnn_ema.pth')\n",
    "save_model(t_ema,'models','t_ema.pth')"
   ]
  },
  {
   "cell_type": "code",
   "execution_count": null,
   "metadata": {
    "id": "0hDwn7IrJFAs"
   },
   "outputs": [],
   "source": []
  }
 ],
 "metadata": {
  "accelerator": "GPU",
  "colab": {
   "gpuType": "T4",
   "provenance": []
  },
  "kernelspec": {
   "display_name": "Python 3",
   "language": "python",
   "name": "python3"
  },
  "language_info": {
   "codemirror_mode": {
    "name": "ipython",
    "version": 3
   },
   "file_extension": ".py",
   "mimetype": "text/x-python",
   "name": "python",
   "nbconvert_exporter": "python",
   "pygments_lexer": "ipython3",
   "version": "3.7.13"
  }
 },
 "nbformat": 4,
 "nbformat_minor": 1
}
